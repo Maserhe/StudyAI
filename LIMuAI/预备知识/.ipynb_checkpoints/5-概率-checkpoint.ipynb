{
 "cells": [
  {
   "cell_type": "markdown",
   "id": "45ae3e01",
   "metadata": {},
   "source": [
    "## 概率"
   ]
  },
  {
   "cell_type": "markdown",
   "id": "d462a495",
   "metadata": {},
   "source": [
    "### 基本概率论"
   ]
  },
  {
   "cell_type": "code",
   "execution_count": null,
   "id": "0692443e",
   "metadata": {},
   "outputs": [],
   "source": [
    "%matplotlib inline\n",
    "import torch\n",
    "from torch.distributions import multinomial  ## distribution分布， \n",
    "\n",
    "fair_probs = torch.ones([6])\n",
    "multinomial.Multinomial(1, fair_probs).sample() ## 次数， 概率权重"
   ]
  },
  {
   "cell_type": "code",
   "execution_count": null,
   "id": "13d5126f",
   "metadata": {},
   "outputs": [],
   "source": [
    "multinomial.Multinomial(10,  fair_probs).sample()"
   ]
  },
  {
   "cell_type": "markdown",
   "id": "6abd375b",
   "metadata": {},
   "source": [
    "**大数定理**"
   ]
  },
  {
   "cell_type": "code",
   "execution_count": null,
   "id": "d1af843b",
   "metadata": {},
   "outputs": [],
   "source": [
    "counts = multinomial.Multinomial(1000, fair_probs).sample()\n",
    "counts / 1000"
   ]
  },
  {
   "cell_type": "markdown",
   "id": "abc55093",
   "metadata": {},
   "source": [
    "**500组实验**"
   ]
  },
  {
   "cell_type": "code",
   "execution_count": null,
   "id": "2c152acf",
   "metadata": {},
   "outputs": [],
   "source": [
    "counts = multinomial.Multinomial(10, fair_probs).sample((500,)) \n",
    "# 500 组实验，每次投10次\n",
    "cum_counts = counts.cumsum(dim=0)\n",
    "estimates = cum_counts / cum_counts.sum(dim=1, keepdims=True)\n",
    "counts.shape"
   ]
  },
  {
   "cell_type": "code",
   "execution_count": null,
   "id": "9e83ff53",
   "metadata": {},
   "outputs": [],
   "source": [
    "import matplotlib.pyplot as plt\n",
    "for i in range(6):\n",
    "    plt.plot(estimates[:, i].numpy(), label=(\"P(die=\" + str(i + 1) + \")\"))\n",
    "plt.legend();"
   ]
  },
  {
   "cell_type": "markdown",
   "id": "4dba7ffa",
   "metadata": {},
   "source": [
    "### 概率论公理"
   ]
  },
  {
   "cell_type": "markdown",
   "id": "aa328f99",
   "metadata": {},
   "source": [
    "![截屏2022-06-08 03.23.52](https://ghproxy.com/https://github.com/Maserhe/PIc-Bed/blob/master/typora/202206080324684.png)"
   ]
  },
  {
   "cell_type": "markdown",
   "id": "2a5e5883",
   "metadata": {},
   "source": [
    "- **联合概率**：多个事情，可以回答A=a和B=b同时满足时的概率\n",
    "- **条件概率**：可以用来表示联合概率的情况\n",
    "- **贝叶斯定理**： \n",
    "- **边际化**： 进行事件概率求和\n",
    "- **独立性**： 用来表示两个事件的关系，是独立还是 依赖的关系\n",
    " - P(A,B) = P(A) * P(B) 表示是A和B是独立的"
   ]
  },
  {
   "cell_type": "markdown",
   "id": "0fa32a5a",
   "metadata": {},
   "source": [
    "## 期望和方差"
   ]
  },
  {
   "cell_type": "markdown",
   "id": "bca8b595",
   "metadata": {},
   "source": [
    "**差的平方根就是标准差**"
   ]
  },
  {
   "cell_type": "code",
   "execution_count": null,
   "id": "60c5bc1d",
   "metadata": {},
   "outputs": [],
   "source": []
  }
 ],
 "metadata": {
  "kernelspec": {
   "display_name": "Python 3 (ipykernel)",
   "language": "python",
   "name": "python3"
  },
  "language_info": {
   "codemirror_mode": {
    "name": "ipython",
    "version": 3
   },
   "file_extension": ".py",
   "mimetype": "text/x-python",
   "name": "python",
   "nbconvert_exporter": "python",
   "pygments_lexer": "ipython3",
   "version": "3.8.9"
  }
 },
 "nbformat": 4,
 "nbformat_minor": 5
}
