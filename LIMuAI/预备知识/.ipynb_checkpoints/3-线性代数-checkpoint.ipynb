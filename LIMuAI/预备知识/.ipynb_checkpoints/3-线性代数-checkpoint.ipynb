{
 "cells": [
  {
   "cell_type": "markdown",
   "id": "242cd23d",
   "metadata": {},
   "source": [
    "## 标量\n",
    "**小写字母，另外加上标量的空间**"
   ]
  },
  {
   "cell_type": "code",
   "execution_count": 5,
   "id": "80bfdbf1",
   "metadata": {},
   "outputs": [
    {
     "data": {
      "text/plain": [
       "(tensor(5.), tensor(6.))"
      ]
     },
     "execution_count": 5,
     "metadata": {},
     "output_type": "execute_result"
    }
   ],
   "source": [
    "import torch\n",
    "\n",
    "x = torch.tensor(3.0)\n",
    "y = torch.tensor(2.0)\n",
    "\n",
    "x + y, x * y"
   ]
  },
  {
   "cell_type": "markdown",
   "id": "a533b1ce",
   "metadata": {},
   "source": [
    "## 向量\n",
    "**小写粗体字母表示**"
   ]
  },
  {
   "cell_type": "code",
   "execution_count": 7,
   "id": "4764c44a",
   "metadata": {},
   "outputs": [
    {
     "data": {
      "text/plain": [
       "tensor([0, 1, 2, 3])"
      ]
     },
     "execution_count": 7,
     "metadata": {},
     "output_type": "execute_result"
    }
   ],
   "source": [
    "x = torch.arange(4)\n",
    "x"
   ]
  },
  {
   "cell_type": "markdown",
   "id": "49c63384",
   "metadata": {},
   "source": [
    "## 矩阵\n",
    "**使用大写字母粗体**"
   ]
  },
  {
   "cell_type": "code",
   "execution_count": 9,
   "id": "0e574ddd",
   "metadata": {},
   "outputs": [
    {
     "data": {
      "text/plain": [
       "(tensor([[ 0,  1,  2,  3,  4],\n",
       "         [ 5,  6,  7,  8,  9],\n",
       "         [10, 11, 12, 13, 14],\n",
       "         [15, 16, 17, 18, 19]]),\n",
       " tensor([[ 0,  5, 10, 15],\n",
       "         [ 1,  6, 11, 16],\n",
       "         [ 2,  7, 12, 17],\n",
       "         [ 3,  8, 13, 18],\n",
       "         [ 4,  9, 14, 19]]))"
      ]
     },
     "execution_count": 9,
     "metadata": {},
     "output_type": "execute_result"
    }
   ],
   "source": [
    "A = torch.arange(20).reshape(4, 5)\n",
    "A, A.T"
   ]
  },
  {
   "cell_type": "markdown",
   "id": "488d3723",
   "metadata": {},
   "source": [
    "## 张量\n",
    "**大写字母表示**\n",
    "任意数轴的表示的通用方法"
   ]
  },
  {
   "cell_type": "code",
   "execution_count": 12,
   "id": "e9635650",
   "metadata": {},
   "outputs": [
    {
     "data": {
      "text/plain": [
       "tensor([[[ 0,  1,  2,  3,  4],\n",
       "         [ 5,  6,  7,  8,  9]],\n",
       "\n",
       "        [[10, 11, 12, 13, 14],\n",
       "         [15, 16, 17, 18, 19]]])"
      ]
     },
     "execution_count": 12,
     "metadata": {},
     "output_type": "execute_result"
    }
   ],
   "source": [
    "X = torch.arange(20).reshape(2, 2, 5)\n",
    "X"
   ]
  },
  {
   "cell_type": "code",
   "execution_count": 14,
   "id": "ba29fde1",
   "metadata": {},
   "outputs": [
    {
     "data": {
      "text/plain": [
       "torch.Size([5, 2, 2])"
      ]
     },
     "execution_count": 14,
     "metadata": {},
     "output_type": "execute_result"
    }
   ],
   "source": [
    "X.T.shape"
   ]
  },
  {
   "cell_type": "markdown",
   "id": "87c6d657",
   "metadata": {},
   "source": [
    "## 张量的运算\n",
    "乘法称之为Hadamard积数学符号⊙\n",
    "加法和乘法，**都是对应的每一项进行操作**"
   ]
  },
  {
   "cell_type": "markdown",
   "id": "f8ef8b92",
   "metadata": {},
   "source": [
    "- 降低维度的操作\n",
    "- 例如：sum求和函数\n",
    "- 可以指定axis轴进行降维"
   ]
  },
  {
   "cell_type": "code",
   "execution_count": 15,
   "id": "24ad11bb",
   "metadata": {},
   "outputs": [
    {
     "data": {
      "text/plain": [
       "tensor([[0, 1, 2, 3, 4],\n",
       "        [5, 6, 7, 8, 9]])"
      ]
     },
     "execution_count": 15,
     "metadata": {},
     "output_type": "execute_result"
    }
   ],
   "source": [
    "X = torch.arange(10).reshape(2, 5)\n",
    "X"
   ]
  },
  {
   "cell_type": "code",
   "execution_count": 16,
   "id": "a4a4e18c",
   "metadata": {},
   "outputs": [
    {
     "data": {
      "text/plain": [
       "tensor([10, 35])"
      ]
     },
     "execution_count": 16,
     "metadata": {},
     "output_type": "execute_result"
    }
   ],
   "source": [
    "X.sum(axis = 1)"
   ]
  },
  {
   "cell_type": "code",
   "execution_count": 17,
   "id": "bac45a5b",
   "metadata": {},
   "outputs": [
    {
     "data": {
      "text/plain": [
       "tensor([ 5,  7,  9, 11, 13])"
      ]
     },
     "execution_count": 17,
     "metadata": {},
     "output_type": "execute_result"
    }
   ],
   "source": [
    "X.sum(axis = 0)"
   ]
  },
  {
   "cell_type": "code",
   "execution_count": 19,
   "id": "cf2fbc6b",
   "metadata": {},
   "outputs": [
    {
     "data": {
      "text/plain": [
       "(torch.Size([1, 5]), tensor([[ 5,  7,  9, 11, 13]]))"
      ]
     },
     "execution_count": 19,
     "metadata": {},
     "output_type": "execute_result"
    }
   ],
   "source": [
    "X = X.sum(axis = 0, keepdims=True) ## 可以保持维度\n",
    "X.shape, X"
   ]
  },
  {
   "cell_type": "markdown",
   "id": "bf40396d",
   "metadata": {},
   "source": [
    "## 点积\n",
    "**每一项相乘，然后累计取和**"
   ]
  },
  {
   "cell_type": "code",
   "execution_count": 44,
   "id": "dd7f22ed",
   "metadata": {},
   "outputs": [
    {
     "data": {
      "text/plain": [
       "(tensor([0., 1., 2., 3.]), tensor([1., 1., 1., 1.]), tensor(6.))"
      ]
     },
     "execution_count": 44,
     "metadata": {},
     "output_type": "execute_result"
    }
   ],
   "source": [
    "x = torch.arange(4, dtype=torch.float32)\n",
    "y = torch.ones(4, dtype=torch.float32)\n",
    "x, y, torch.dot(x, y)"
   ]
  },
  {
   "cell_type": "markdown",
   "id": "1808e437",
   "metadata": {},
   "source": [
    "## 矩阵向量积\n",
    "一个矩阵 m*n 和 一个 n列向量相乘\n",
    "得到 m 行的 点积和\n",
    "- **mv**"
   ]
  },
  {
   "cell_type": "code",
   "execution_count": 43,
   "id": "f6b2c638",
   "metadata": {},
   "outputs": [
    {
     "data": {
      "text/plain": [
       "(tensor([[ 0.,  1.,  2.,  3.],\n",
       "         [ 4.,  5.,  6.,  7.],\n",
       "         [ 8.,  9., 10., 11.],\n",
       "         [12., 13., 14., 15.],\n",
       "         [16., 17., 18., 19.]]),\n",
       " tensor([0., 1., 2., 3.]),\n",
       " torch.Size([5, 4]),\n",
       " torch.Size([4]))"
      ]
     },
     "execution_count": 43,
     "metadata": {},
     "output_type": "execute_result"
    }
   ],
   "source": [
    "A = torch.arange(20, dtype=torch.float32).reshape(5, 4)\n",
    "A, x, A.shape, x.shape"
   ]
  },
  {
   "cell_type": "code",
   "execution_count": 41,
   "id": "ebc2bff4",
   "metadata": {},
   "outputs": [
    {
     "data": {
      "text/plain": [
       "tensor([ 14.,  38.,  62.,  86., 110.])"
      ]
     },
     "execution_count": 41,
     "metadata": {},
     "output_type": "execute_result"
    }
   ],
   "source": [
    "torch.mv(A,x)"
   ]
  },
  {
   "cell_type": "markdown",
   "id": "50f0feac",
   "metadata": {},
   "source": [
    "## 矩阵乘法\n",
    "- **mm**\n",
    "不应该与哈达玛混淆"
   ]
  },
  {
   "cell_type": "code",
   "execution_count": 47,
   "id": "7cbf6ede",
   "metadata": {},
   "outputs": [
    {
     "data": {
      "text/plain": [
       "tensor([[ 4,  5,  6,  7],\n",
       "        [12, 17, 22, 27],\n",
       "        [20, 29, 38, 47],\n",
       "        [28, 41, 54, 67]])"
      ]
     },
     "execution_count": 47,
     "metadata": {},
     "output_type": "execute_result"
    }
   ],
   "source": [
    "A = torch.arange(8).reshape(4, 2)\n",
    "B = torch.arange(8).reshape(2, 4)\n",
    "torch.mm(A, B)"
   ]
  },
  {
   "cell_type": "markdown",
   "id": "768c5e0e",
   "metadata": {},
   "source": [
    "# 范数\n",
    "**向量范数是将向量映射到标量的函数f中**\n",
    "常用范数\n",
    "- L1 范数\n",
    "- L2 范数"
   ]
  },
  {
   "cell_type": "code",
   "execution_count": 48,
   "id": "37ce0f2f",
   "metadata": {},
   "outputs": [
    {
     "data": {
      "text/plain": [
       "tensor([ 3., -4.])"
      ]
     },
     "execution_count": 48,
     "metadata": {},
     "output_type": "execute_result"
    }
   ],
   "source": [
    "u = torch.tensor([3.0, -4.0])\n",
    "u"
   ]
  },
  {
   "cell_type": "code",
   "execution_count": 49,
   "id": "d190ea2b",
   "metadata": {},
   "outputs": [
    {
     "data": {
      "text/plain": [
       "tensor(5.)"
      ]
     },
     "execution_count": 49,
     "metadata": {},
     "output_type": "execute_result"
    }
   ],
   "source": [
    "## 计算L2 范数  所有元素的平方和 开平方\n",
    "torch.norm(u)"
   ]
  },
  {
   "cell_type": "code",
   "execution_count": 50,
   "id": "2b6e3972",
   "metadata": {},
   "outputs": [
    {
     "data": {
      "text/plain": [
       "tensor(7.)"
      ]
     },
     "execution_count": 50,
     "metadata": {},
     "output_type": "execute_result"
    }
   ],
   "source": [
    "## 计算L1 范数 各个元素绝对值之和\n",
    "torch.abs(u).sum()"
   ]
  },
  {
   "cell_type": "code",
   "execution_count": null,
   "id": "525a73a3",
   "metadata": {},
   "outputs": [],
   "source": []
  }
 ],
 "metadata": {
  "kernelspec": {
   "display_name": "Python 3 (ipykernel)",
   "language": "python",
   "name": "python3"
  },
  "language_info": {
   "codemirror_mode": {
    "name": "ipython",
    "version": 3
   },
   "file_extension": ".py",
   "mimetype": "text/x-python",
   "name": "python",
   "nbconvert_exporter": "python",
   "pygments_lexer": "ipython3",
   "version": "3.8.9"
  }
 },
 "nbformat": 4,
 "nbformat_minor": 5
}
