{
 "cells": [
  {
   "cell_type": "markdown",
   "id": "ef8b397a",
   "metadata": {},
   "source": [
    "# 微积分\n",
    "- **优化**: 拟合观测数据的过程\n",
    "- **泛化**: 够指导我们⽣成出有效性超出⽤于训练的数据集本⾝的模型"
   ]
  },
  {
   "cell_type": "markdown",
   "id": "f78c0586",
   "metadata": {},
   "source": [
    "## 导数\n",
    "f\n",
    "′\n",
    "(x) = y\n",
    "′ =\n",
    "dy/\n",
    "dx =\n",
    "df/\n",
    "dx =\n",
    "d/\n",
    "dxf(x) = Df(x) = Dxf(x),\n",
    "\n",
    "- d/dx 和 D是微分运算操作"
   ]
  },
  {
   "cell_type": "markdown",
   "id": "b21aff3d",
   "metadata": {},
   "source": [
    "## 偏导数\n",
    "- 将变量扩展到多维度"
   ]
  },
  {
   "cell_type": "markdown",
   "id": "53bb774c",
   "metadata": {},
   "source": [
    "![截屏2022-06-08 00.24.32](https://ghproxy.com/https://github.com/Maserhe/PIc-Bed/blob/master/typora/202206080024142.png)"
   ]
  },
  {
   "cell_type": "markdown",
   "id": "3192cc60",
   "metadata": {},
   "source": [
    "## 梯度\n",
    "- 对多元变量求其的偏导数，得到梯度的向量\n",
    "- 包含n个**偏导数的向量**"
   ]
  },
  {
   "cell_type": "markdown",
   "id": "e204ab1a",
   "metadata": {},
   "source": [
    "![截屏2022-06-08 00.28.35](https://ghproxy.com/https://github.com/Maserhe/PIc-Bed/blob/master/typora/202206080028364.png)"
   ]
  },
  {
   "cell_type": "markdown",
   "id": "c1ab6969",
   "metadata": {},
   "source": [
    "## 自动微分\n",
    "**标量的反向传播**"
   ]
  },
  {
   "cell_type": "code",
   "execution_count": 1,
   "id": "6a2506a7",
   "metadata": {},
   "outputs": [
    {
     "data": {
      "text/plain": [
       "tensor([0., 1., 2., 3.])"
      ]
     },
     "execution_count": 1,
     "metadata": {},
     "output_type": "execute_result"
    }
   ],
   "source": [
    "import torch\n",
    "x = torch.arange(4.0)\n",
    "x"
   ]
  },
  {
   "cell_type": "code",
   "execution_count": 2,
   "id": "a59d6c01",
   "metadata": {},
   "outputs": [
    {
     "data": {
      "text/plain": [
       "tensor(28., grad_fn=<MulBackward0>)"
      ]
     },
     "execution_count": 2,
     "metadata": {},
     "output_type": "execute_result"
    }
   ],
   "source": [
    "x.requires_grad_(True) # 反向传播时候计算梯度 存入 grad\n",
    "y = 2 * torch.dot(x, x)\n",
    "y"
   ]
  },
  {
   "cell_type": "code",
   "execution_count": 3,
   "id": "a39fdda6",
   "metadata": {},
   "outputs": [
    {
     "data": {
      "text/plain": [
       "tensor([ 0.,  4.,  8., 12.])"
      ]
     },
     "execution_count": 3,
     "metadata": {},
     "output_type": "execute_result"
    }
   ],
   "source": [
    "y.backward()\n",
    "x.grad"
   ]
  },
  {
   "cell_type": "code",
   "execution_count": 4,
   "id": "051f0023",
   "metadata": {},
   "outputs": [
    {
     "data": {
      "text/plain": [
       "tensor([True, True, True, True])"
      ]
     },
     "execution_count": 4,
     "metadata": {},
     "output_type": "execute_result"
    }
   ],
   "source": [
    "x.grad == 4 * x # 求导梯度是 4"
   ]
  },
  {
   "cell_type": "markdown",
   "id": "fe3179c1",
   "metadata": {},
   "source": [
    "**清理梯度**"
   ]
  },
  {
   "cell_type": "code",
   "execution_count": 5,
   "id": "42fbe1d2",
   "metadata": {},
   "outputs": [
    {
     "data": {
      "text/plain": [
       "tensor([0., 0., 0., 0.])"
      ]
     },
     "execution_count": 5,
     "metadata": {},
     "output_type": "execute_result"
    }
   ],
   "source": [
    "x.grad.zero_()"
   ]
  },
  {
   "cell_type": "code",
   "execution_count": 6,
   "id": "5bdc83cf",
   "metadata": {},
   "outputs": [
    {
     "data": {
      "text/plain": [
       "tensor([1., 1., 1., 1.])"
      ]
     },
     "execution_count": 6,
     "metadata": {},
     "output_type": "execute_result"
    }
   ],
   "source": [
    "y = x.sum()\n",
    "y.backward()\n",
    "x.grad"
   ]
  },
  {
   "cell_type": "markdown",
   "id": "7708ed40",
   "metadata": {},
   "source": [
    "**非标量变量的反向传播**"
   ]
  },
  {
   "cell_type": "code",
   "execution_count": 7,
   "id": "de51c935",
   "metadata": {},
   "outputs": [
    {
     "data": {
      "text/plain": [
       "tensor([0., 2., 4., 6.])"
      ]
     },
     "execution_count": 7,
     "metadata": {},
     "output_type": "execute_result"
    }
   ],
   "source": [
    "x.grad.zero_()\n",
    "y = x * x\n",
    "y.sum().backward()\n",
    "x.grad"
   ]
  },
  {
   "cell_type": "markdown",
   "id": "8f2acae5",
   "metadata": {},
   "source": [
    "## 分离计算"
   ]
  },
  {
   "cell_type": "markdown",
   "id": "2a6a69c3",
   "metadata": {},
   "source": [
    "- 例如：\n",
    "- y = f(x)\n",
    "- Z = f(x, y)\n",
    "\n",
    "**只想计算Z关于x的梯度，把y最希望作为一个常数**"
   ]
  },
  {
   "cell_type": "code",
   "execution_count": 8,
   "id": "efe814ed",
   "metadata": {},
   "outputs": [
    {
     "data": {
      "text/plain": [
       "tensor([True, True, True, True])"
      ]
     },
     "execution_count": 8,
     "metadata": {},
     "output_type": "execute_result"
    }
   ],
   "source": [
    "x.grad.zero_()\n",
    "y =  x * x\n",
    "u = y.detach() ## 共享一个内存，改变一个，大家都会改变\n",
    "z = u * x\n",
    "# 计算z 的 梯度\n",
    "z.sum().backward()\n",
    "x.grad == u"
   ]
  },
  {
   "cell_type": "code",
   "execution_count": 9,
   "id": "f0d5916c",
   "metadata": {},
   "outputs": [
    {
     "data": {
      "text/plain": [
       "tensor([True, True, True, True])"
      ]
     },
     "execution_count": 9,
     "metadata": {},
     "output_type": "execute_result"
    }
   ],
   "source": [
    "# 计算y的梯度\n",
    "x.grad.zero_()\n",
    "y.sum().backward()\n",
    "x.grad ==  2 * x"
   ]
  },
  {
   "cell_type": "markdown",
   "id": "3c3d6404",
   "metadata": {},
   "source": [
    "## 控制流的梯度计算\n",
    "**即便在循环、条件等任意函数调用中，仍然可以计算梯度**"
   ]
  },
  {
   "cell_type": "code",
   "execution_count": 11,
   "id": "9e64ce84",
   "metadata": {},
   "outputs": [],
   "source": [
    "def f(a): \n",
    "    b=a*2\n",
    "    while b.norm() < 1000: \n",
    "        b=b*2\n",
    "    if b.sum() > 0: \n",
    "        c=b\n",
    "    else:\n",
    "        c = 100 * b\n",
    "    return c"
   ]
  },
  {
   "cell_type": "code",
   "execution_count": 16,
   "id": "212d9ef1",
   "metadata": {},
   "outputs": [
    {
     "data": {
      "text/plain": [
       "(tensor(True), tensor(1.2449, requires_grad=True))"
      ]
     },
     "execution_count": 16,
     "metadata": {},
     "output_type": "execute_result"
    }
   ],
   "source": [
    "a = torch.randn(size=(), requires_grad=True)\n",
    "d = f(a)\n",
    "d.backward()\n",
    "a.grad == d /a, a"
   ]
  }
 ],
 "metadata": {
  "kernelspec": {
   "display_name": "Python 3 (ipykernel)",
   "language": "python",
   "name": "python3"
  },
  "language_info": {
   "codemirror_mode": {
    "name": "ipython",
    "version": 3
   },
   "file_extension": ".py",
   "mimetype": "text/x-python",
   "name": "python",
   "nbconvert_exporter": "python",
   "pygments_lexer": "ipython3",
   "version": "3.8.9"
  }
 },
 "nbformat": 4,
 "nbformat_minor": 5
}
