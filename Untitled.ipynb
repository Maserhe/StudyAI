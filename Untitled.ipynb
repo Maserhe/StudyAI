{
 "cells": [
  {
   "cell_type": "markdown",
   "id": "23985152",
   "metadata": {},
   "source": [
    "分类方法\n",
    "1，逻辑回归\n",
    "2，KNN近邻\n",
    "3，决策树\n",
    "4，神经网络\n",
    "分类任务和 回归任务的区别\n",
    "分类：判断类别  输出：非连续\n",
    "回归：简历函数  输出：连续型数值\n"
   ]
  },
  {
   "cell_type": "code",
   "execution_count": null,
   "id": "2271a951",
   "metadata": {},
   "outputs": [],
   "source": [
    " "
   ]
  }
 ],
 "metadata": {
  "kernelspec": {
   "display_name": "Python 3 (ipykernel)",
   "language": "python",
   "name": "python3"
  },
  "language_info": {
   "codemirror_mode": {
    "name": "ipython",
    "version": 3
   },
   "file_extension": ".py",
   "mimetype": "text/x-python",
   "name": "python",
   "nbconvert_exporter": "python",
   "pygments_lexer": "ipython3",
   "version": "3.9.7"
  }
 },
 "nbformat": 4,
 "nbformat_minor": 5
}
