{
 "cells": [
  {
   "cell_type": "code",
   "execution_count": 20,
   "id": "6ea2447d",
   "metadata": {},
   "outputs": [
    {
     "data": {
      "image/png": "[encoded data removed]",
      "text/plain": [
       "<Figure size 432x288 with 2 Axes>"
      ]
     },
     "metadata": {
      "needs_background": "light"
     },
     "output_type": "display_data"
    }
   ],
   "source": [
    "import numpy as np\n",
    "import matplotlib.pyplot as plt\n",
    "\n",
    "x = np.linspace(0, 5, 50)\n",
    "y = np.linspace(0, 5, 50)[:, np.newaxis]\n",
    "z = np.sin(x) ** 10 + np.cos(10 + y *x) * np.cos(x)\n",
    "\n",
    "plt.imshow(z, origin='lower', extent=[0, 5, 0, 5], cmap='viridis')\n",
    "plt.colorbar()\n",
    "plt.show()"
   ]
  },
  {
   "cell_type": "markdown",
   "id": "d0926fc6",
   "metadata": {},
   "source": [
    "### bool 逻辑的操作"
   ]
  },
  {
   "cell_type": "code",
   "execution_count": 21,
   "id": "ae307df3",
   "metadata": {},
   "outputs": [
    {
     "data": {
      "text/plain": [
       "array([ True,  True, False, False])"
      ]
     },
     "execution_count": 21,
     "metadata": {},
     "output_type": "execute_result"
    }
   ],
   "source": [
    "x = np.array([1, 2, 4, 5])\n",
    "x < 3"
   ]
  },
  {
   "cell_type": "markdown",
   "id": "8427a6b9",
   "metadata": {},
   "source": [
    "**使用复合表达式**"
   ]
  },
  {
   "cell_type": "code",
   "execution_count": 23,
   "id": "1d2e82b6",
   "metadata": {},
   "outputs": [
    {
     "data": {
      "text/plain": [
       "array([False,  True, False, False])"
      ]
     },
     "execution_count": 23,
     "metadata": {},
     "output_type": "execute_result"
    }
   ],
   "source": [
    "(2*x) == (x * x)"
   ]
  },
  {
   "cell_type": "markdown",
   "id": "6203cad6",
   "metadata": {},
   "source": [
    "**统计数量**"
   ]
  },
  {
   "cell_type": "code",
   "execution_count": 25,
   "id": "60f3dd0f",
   "metadata": {},
   "outputs": [
    {
     "data": {
      "text/plain": [
       "4"
      ]
     },
     "execution_count": 25,
     "metadata": {},
     "output_type": "execute_result"
    }
   ],
   "source": [
    "np.count_nonzero(x < 6)"
   ]
  },
  {
   "cell_type": "code",
   "execution_count": 26,
   "id": "3f07a493",
   "metadata": {},
   "outputs": [
    {
     "data": {
      "text/plain": [
       "False"
      ]
     },
     "execution_count": 26,
     "metadata": {},
     "output_type": "execute_result"
    }
   ],
   "source": [
    "np.all(x < 4)"
   ]
  },
  {
   "cell_type": "markdown",
   "id": "b760df55",
   "metadata": {},
   "source": [
    "**花哨索引**"
   ]
  },
  {
   "cell_type": "code",
   "execution_count": 28,
   "id": "7da8e62a",
   "metadata": {},
   "outputs": [],
   "source": [
    "rand = np.random.RandomState(42)"
   ]
  },
  {
   "cell_type": "code",
   "execution_count": 29,
   "id": "85327f1d",
   "metadata": {},
   "outputs": [],
   "source": [
    "x = rand.randint(100, size=10)"
   ]
  },
  {
   "cell_type": "code",
   "execution_count": 30,
   "id": "15ddd248",
   "metadata": {},
   "outputs": [
    {
     "data": {
      "text/plain": [
       "array([51, 92, 14, 71, 60, 20, 82, 86, 74, 74])"
      ]
     },
     "execution_count": 30,
     "metadata": {},
     "output_type": "execute_result"
    }
   ],
   "source": [
    "x"
   ]
  },
  {
   "cell_type": "code",
   "execution_count": 36,
   "id": "d3e8afbd",
   "metadata": {},
   "outputs": [
    {
     "data": {
      "text/plain": [
       "[14, 71, 60]"
      ]
     },
     "execution_count": 36,
     "metadata": {},
     "output_type": "execute_result"
    }
   ],
   "source": [
    "[x[2], x[3], x[4]]"
   ]
  },
  {
   "cell_type": "code",
   "execution_count": 37,
   "id": "b1efbb42",
   "metadata": {},
   "outputs": [
    {
     "data": {
      "text/plain": [
       "array([14, 71, 60])"
      ]
     },
     "execution_count": 37,
     "metadata": {},
     "output_type": "execute_result"
    }
   ],
   "source": [
    "index = [2, 3, 4]\n",
    "x[index]"
   ]
  },
  {
   "cell_type": "markdown",
   "id": "4e69eb1f",
   "metadata": {},
   "source": [
    "**使用花哨索引，结果的形状与索引形状相同，而不是与索引数组相同**"
   ]
  },
  {
   "cell_type": "code",
   "execution_count": 38,
   "id": "53a4f233",
   "metadata": {},
   "outputs": [
    {
     "data": {
      "text/plain": [
       "array([[92, 71],\n",
       "       [14, 60]])"
      ]
     },
     "execution_count": 38,
     "metadata": {},
     "output_type": "execute_result"
    }
   ],
   "source": [
    "index = np.array([[1, 3],\n",
    "                    [2, 4]])\n",
    "x[index]"
   ]
  },
  {
   "cell_type": "markdown",
   "id": "582d9a80",
   "metadata": {},
   "source": [
    "**花哨索引和普通索引一样，第一个元素是行，第二个元素是列**"
   ]
  },
  {
   "cell_type": "code",
   "execution_count": 41,
   "id": "2c2b4d8e",
   "metadata": {},
   "outputs": [
    {
     "data": {
      "text/plain": [
       "array([[ 0,  1,  2,  3],\n",
       "       [ 4,  5,  6,  7],\n",
       "       [ 8,  9, 10, 11]])"
      ]
     },
     "execution_count": 41,
     "metadata": {},
     "output_type": "execute_result"
    }
   ],
   "source": [
    "X = np.arange(12).reshape((3, 4))\n",
    "X"
   ]
  },
  {
   "cell_type": "code",
   "execution_count": 45,
   "id": "05af6d82",
   "metadata": {},
   "outputs": [
    {
     "data": {
      "text/plain": [
       "array([ 0,  5, 10])"
      ]
     },
     "execution_count": 45,
     "metadata": {},
     "output_type": "execute_result"
    }
   ],
   "source": [
    "# 取出对角元素\n",
    "row = np.array([0, 1, 2])\n",
    "col = np.array([0, 1, 2])\n",
    "X[row, col]"
   ]
  },
  {
   "cell_type": "markdown",
   "id": "364f44ce",
   "metadata": {},
   "source": [
    "**花哨索引配合广播机制**"
   ]
  },
  {
   "cell_type": "code",
   "execution_count": 47,
   "id": "c3784e38",
   "metadata": {},
   "outputs": [
    {
     "data": {
      "text/plain": [
       "array([[ 0,  1,  2],\n",
       "       [ 4,  5,  6],\n",
       "       [ 8,  9, 10]])"
      ]
     },
     "execution_count": 47,
     "metadata": {},
     "output_type": "execute_result"
    }
   ],
   "source": [
    "X[row[:,np.newaxis], col]"
   ]
  },
  {
   "cell_type": "code",
   "execution_count": 50,
   "id": "0d0aa78e",
   "metadata": {},
   "outputs": [
    {
     "data": {
      "text/plain": [
       "array([[0, 0, 0],\n",
       "       [0, 1, 2],\n",
       "       [0, 2, 4]])"
      ]
     },
     "execution_count": 50,
     "metadata": {},
     "output_type": "execute_result"
    }
   ],
   "source": [
    "row[:, np.newaxis] * col # 花哨索引返回的是 索引广播后的结果"
   ]
  },
  {
   "cell_type": "markdown",
   "id": "dc82358f",
   "metadata": {},
   "source": [
    "## 组合索引"
   ]
  },
  {
   "cell_type": "code",
   "execution_count": 51,
   "id": "f02451cf",
   "metadata": {},
   "outputs": [
    {
     "data": {
      "text/plain": [
       "array([ 8,  9, 10])"
      ]
     },
     "execution_count": 51,
     "metadata": {},
     "output_type": "execute_result"
    }
   ],
   "source": [
    "X[2, [0, 1, 2]]"
   ]
  },
  {
   "cell_type": "code",
   "execution_count": 53,
   "id": "05637c93",
   "metadata": {},
   "outputs": [
    {
     "data": {
      "text/plain": [
       "array([[ 4,  5,  6],\n",
       "       [ 8,  9, 10]])"
      ]
     },
     "execution_count": 53,
     "metadata": {},
     "output_type": "execute_result"
    }
   ],
   "source": [
    "X[1:, [0, 1, 2]]  # 切片配合 索引"
   ]
  },
  {
   "cell_type": "markdown",
   "id": "e0460973",
   "metadata": {},
   "source": [
    "### 花哨索引的示例"
   ]
  },
  {
   "cell_type": "code",
   "execution_count": 55,
   "id": "90021529",
   "metadata": {},
   "outputs": [
    {
     "data": {
      "text/plain": [
       "(100, 2)"
      ]
     },
     "execution_count": 55,
     "metadata": {},
     "output_type": "execute_result"
    }
   ],
   "source": [
    "# 选择随机点\n",
    "mean = [0, 0]  # mean 均值\n",
    "cov = [[1, 2], # 协方差\n",
    "       [2, 5]]\n",
    "X = rand.multivariate_normal(mean, cov, 100)\n",
    "X.shape"
   ]
  },
  {
   "cell_type": "code",
   "execution_count": 60,
   "id": "2fc881e5",
   "metadata": {},
   "outputs": [
    {
     "data": {
      "text/plain": [
       "<matplotlib.collections.PathCollection at 0x1217d3f10>"
      ]
     },
     "execution_count": 60,
     "metadata": {},
     "output_type": "execute_result"
    },
    {
     "data": {
      "image/png": "[encoded data removed]",
      "text/plain": [
       "<Figure size 432x288 with 1 Axes>"
      ]
     },
     "metadata": {
      "needs_background": "light"
     },
     "output_type": "display_data"
    }
   ],
   "source": [
    "%matplotlib inline\n",
    "import matplotlib.pyplot as plt\n",
    "plt.scatter(X[:, 0], X[:, 1])"
   ]
  },
  {
   "cell_type": "markdown",
   "id": "7d58c21a",
   "metadata": {},
   "source": [
    "**选择随机点**"
   ]
  },
  {
   "cell_type": "code",
   "execution_count": 64,
   "id": "47971c48",
   "metadata": {},
   "outputs": [
    {
     "data": {
      "text/plain": [
       "array([80,  6, 99, 58, 52, 73, 90,  7, 60, 89, 64, 41, 45, 76, 13, 97, 17,\n",
       "       57, 25, 62])"
      ]
     },
     "execution_count": 64,
     "metadata": {},
     "output_type": "execute_result"
    }
   ],
   "source": [
    "indices = np.random.choice(X.shape[0], 20, replace=False)  # 选择20 个横坐标\n",
    "indices"
   ]
  },
  {
   "cell_type": "code",
   "execution_count": 66,
   "id": "f74b7348",
   "metadata": {},
   "outputs": [
    {
     "data": {
      "text/plain": [
       "(20, 2)"
      ]
     },
     "execution_count": 66,
     "metadata": {},
     "output_type": "execute_result"
    }
   ],
   "source": [
    "selection = X[indices] # 花哨索引的选择\n",
    "selection.shape"
   ]
  },
  {
   "cell_type": "code",
   "execution_count": 68,
   "id": "df841a69",
   "metadata": {},
   "outputs": [
    {
     "data": {
      "text/plain": [
       "<matplotlib.collections.PathCollection at 0x12196fc40>"
      ]
     },
     "execution_count": 68,
     "metadata": {},
     "output_type": "execute_result"
    },
    {
     "data": {
      "image/png": "[encoded data removed]",
      "text/plain": [
       "<Figure size 432x288 with 1 Axes>"
      ]
     },
     "metadata": {
      "needs_background": "light"
     },
     "output_type": "display_data"
    }
   ],
   "source": [
    "plt.scatter(X[:, 0], X[:, 1]) # 第一行作为x, 第二行作为y\n",
    "plt.scatter(selection[:, 0], selection[:, 1], facecolor='none', edgecolors='b', s=200)"
   ]
  },
  {
   "cell_type": "markdown",
   "id": "034a75c9",
   "metadata": {},
   "source": [
    "### 使用花哨索引修改值"
   ]
  },
  {
   "cell_type": "code",
   "execution_count": 73,
   "id": "d305bb37",
   "metadata": {},
   "outputs": [
    {
     "data": {
      "text/plain": [
       "array([0., 0., 1., 1., 0., 0., 0., 0., 0., 0.])"
      ]
     },
     "execution_count": 73,
     "metadata": {},
     "output_type": "execute_result"
    }
   ],
   "source": [
    "x = np.zeros(10)\n",
    "index = [2, 2, 3, 3, 3, 3]  ## 只有 一个重复的执行了操作\n",
    "x[index] += 1\n",
    "x"
   ]
  },
  {
   "cell_type": "code",
   "execution_count": 74,
   "id": "8351c5c7",
   "metadata": {},
   "outputs": [
    {
     "data": {
      "text/plain": [
       "array([0., 0., 2., 4., 0., 0., 0., 0., 0., 0.])"
      ]
     },
     "execution_count": 74,
     "metadata": {},
     "output_type": "execute_result"
    }
   ],
   "source": [
    "x = np.zeros(10)\n",
    "index = [2, 2, 3, 3, 3, 3]  ## 重复执行上面的操作\n",
    "np.add.at(x, index, 1)\n",
    "x"
   ]
  },
  {
   "cell_type": "markdown",
   "id": "6c06f660",
   "metadata": {},
   "source": [
    "### 排序 sort 和 argsort"
   ]
  },
  {
   "cell_type": "code",
   "execution_count": 75,
   "id": "4b72029a",
   "metadata": {},
   "outputs": [
    {
     "data": {
      "text/plain": [
       "array([1, 2, 3, 4, 5])"
      ]
     },
     "execution_count": 75,
     "metadata": {},
     "output_type": "execute_result"
    }
   ],
   "source": [
    "x = np.array([3, 2, 1, 4, 5])\n",
    "np.sort(x)"
   ]
  },
  {
   "cell_type": "code",
   "execution_count": 76,
   "id": "963e9ab6",
   "metadata": {},
   "outputs": [
    {
     "data": {
      "text/plain": [
       "array([2, 1, 0, 3, 4])"
      ]
     },
     "execution_count": 76,
     "metadata": {},
     "output_type": "execute_result"
    }
   ],
   "source": [
    "np.argsort(x)  ##  返回的是索引"
   ]
  },
  {
   "cell_type": "code",
   "execution_count": 77,
   "id": "53882def",
   "metadata": {},
   "outputs": [
    {
     "data": {
      "text/plain": [
       "array([1, 2, 3, 4, 5])"
      ]
     },
     "execution_count": 77,
     "metadata": {},
     "output_type": "execute_result"
    }
   ],
   "source": [
    "x[np.argsort(x)]"
   ]
  },
  {
   "cell_type": "markdown",
   "id": "9228ad46",
   "metadata": {},
   "source": [
    "## 示例 K 近邻"
   ]
  },
  {
   "cell_type": "code",
   "execution_count": 82,
   "id": "7774d427",
   "metadata": {},
   "outputs": [
    {
     "data": {
      "text/plain": [
       "(10, 2)"
      ]
     },
     "execution_count": 82,
     "metadata": {},
     "output_type": "execute_result"
    }
   ],
   "source": [
    "X = rand.rand(10, 2)\n",
    "X.shape"
   ]
  },
  {
   "cell_type": "code",
   "execution_count": 83,
   "id": "c2bd3e06",
   "metadata": {},
   "outputs": [
    {
     "data": {
      "text/plain": [
       "<matplotlib.collections.PathCollection at 0x1219c3b20>"
      ]
     },
     "execution_count": 83,
     "metadata": {},
     "output_type": "execute_result"
    },
    {
     "data": {
      "image/png": "[encoded data removed]",
      "text/plain": [
       "<Figure size 432x288 with 1 Axes>"
      ]
     },
     "metadata": {
      "needs_background": "light"
     },
     "output_type": "display_data"
    }
   ],
   "source": [
    "%matplotlib inline\n",
    "import matplotlib.pyplot as plt\n",
    "plt.scatter(X[:, 0], X[:, 1], s = 100)"
   ]
  },
  {
   "cell_type": "code",
   "execution_count": 105,
   "id": "20860891",
   "metadata": {},
   "outputs": [],
   "source": [
    "## 计算矩阵的 平方距离\n",
    "dist_sum = np.sum( (X[:, np.newaxis, :] - X[np.newaxis, :,:]) ** 2, axis=-1)"
   ]
  },
  {
   "cell_type": "code",
   "execution_count": 106,
   "id": "663a4065",
   "metadata": {},
   "outputs": [
    {
     "data": {
      "text/plain": [
       "array([0., 0., 0., 0., 0., 0., 0., 0., 0., 0.])"
      ]
     },
     "execution_count": 106,
     "metadata": {},
     "output_type": "execute_result"
    }
   ],
   "source": [
    "dist_sum.diagonal()  # 查看对角线元素"
   ]
  },
  {
   "cell_type": "code",
   "execution_count": 109,
   "id": "0f4610bc",
   "metadata": {},
   "outputs": [
    {
     "data": {
      "text/plain": [
       "array([[0, 6, 4, 7, 3, 2, 9, 1, 5, 8],\n",
       "       [1, 5, 3, 8, 2, 6, 4, 0, 9, 7],\n",
       "       [2, 9, 3, 8, 6, 0, 5, 4, 1, 7],\n",
       "       [3, 6, 2, 0, 4, 1, 5, 8, 9, 7],\n",
       "       [4, 6, 0, 7, 3, 2, 1, 9, 5, 8],\n",
       "       [5, 1, 8, 3, 2, 6, 4, 0, 9, 7],\n",
       "       [6, 0, 4, 3, 7, 2, 9, 1, 5, 8],\n",
       "       [7, 0, 4, 6, 3, 2, 9, 1, 5, 8],\n",
       "       [8, 5, 2, 3, 1, 9, 6, 0, 4, 7],\n",
       "       [9, 2, 3, 0, 6, 8, 4, 7, 5, 1]])"
      ]
     },
     "execution_count": 109,
     "metadata": {},
     "output_type": "execute_result"
    }
   ],
   "source": [
    "nearst = np.argsort(dist_sum, axis=1)\n",
    "nearst"
   ]
  },
  {
   "cell_type": "code",
   "execution_count": 110,
   "id": "54c97235",
   "metadata": {},
   "outputs": [
    {
     "data": {
      "text/plain": [
       "array([[6, 0, 4, 7, 3, 2, 1, 5, 8, 9],\n",
       "       [1, 3, 5, 8, 4, 2, 6, 0, 7, 9],\n",
       "       [3, 2, 9, 8, 6, 0, 5, 7, 1, 4],\n",
       "       [3, 6, 2, 0, 4, 5, 1, 7, 8, 9],\n",
       "       [6, 4, 0, 7, 3, 2, 1, 5, 8, 9],\n",
       "       [1, 8, 5, 3, 4, 2, 6, 0, 7, 9],\n",
       "       [6, 0, 4, 3, 7, 2, 1, 5, 8, 9],\n",
       "       [7, 0, 4, 6, 3, 5, 1, 2, 8, 9],\n",
       "       [5, 8, 2, 3, 1, 9, 6, 0, 7, 4],\n",
       "       [3, 9, 2, 0, 1, 5, 6, 7, 8, 4]])"
      ]
     },
     "execution_count": 110,
     "metadata": {},
     "output_type": "execute_result"
    }
   ],
   "source": [
    "k = 2 # 两个最邻近\n",
    "nearst_partition = np.argpartition(dist_sum, k + 1, axis = 1) ## 输出前三个最大值\n",
    "nearst_partition"
   ]
  },
  {
   "cell_type": "code",
   "execution_count": 116,
   "id": "a0d95d19",
   "metadata": {},
   "outputs": [
    {
     "data": {
      "image/png": "[encoded data removed]",
      "text/plain": [
       "<Figure size 432x288 with 1 Axes>"
      ]
     },
     "metadata": {
      "needs_background": "light"
     },
     "output_type": "display_data"
    }
   ],
   "source": [
    "for i in range(X.shape[0]):     ## 取出所有 x\n",
    "    for j in nearst_partition[i, :3]: # 取出 当前 前三名\n",
    "        plt.plot(*zip(X[i], X[j]), color='black') # 画出来"
   ]
  },
  {
   "cell_type": "code",
   "execution_count": 113,
   "id": "6e2e2bd4",
   "metadata": {},
   "outputs": [
    {
     "data": {
      "text/plain": [
       "(10, 10)"
      ]
     },
     "execution_count": 113,
     "metadata": {},
     "output_type": "execute_result"
    }
   ],
   "source": [
    "dist_sum.shape"
   ]
  },
  {
   "cell_type": "code",
   "execution_count": null,
   "id": "76ff82d8",
   "metadata": {},
   "outputs": [],
   "source": []
  }
 ],
 "metadata": {
  "kernelspec": {
   "display_name": "Python 3 (ipykernel)",
   "language": "python",
   "name": "python3"
  },
  "language_info": {
   "codemirror_mode": {
    "name": "ipython",
    "version": 3
   },
   "file_extension": ".py",
   "mimetype": "text/x-python",
   "name": "python",
   "nbconvert_exporter": "python",
   "pygments_lexer": "ipython3",
   "version": "3.8.9"
  }
 },
 "nbformat": 4,
 "nbformat_minor": 5
}
