{
 "cells": [
  {
   "cell_type": "markdown",
   "id": "bb01ebe0",
   "metadata": {},
   "source": [
    "# 基本概念"
   ]
  },
  {
   "cell_type": "markdown",
   "id": "372f8c99",
   "metadata": {},
   "source": [
    "## 监督学习\n",
    "- 分类\n",
    "- 回归"
   ]
  },
  {
   "cell_type": "markdown",
   "id": "5d141ae8",
   "metadata": {},
   "source": [
    "## 无监督学习\n",
    "- 聚类\n",
    "- 降维"
   ]
  },
  {
   "cell_type": "markdown",
   "id": "9d2fe21f",
   "metadata": {},
   "source": [
    "**训练好的模型，输入新数据，叫做预测**"
   ]
  },
  {
   "cell_type": "markdown",
   "id": "b3ee95b7",
   "metadata": {},
   "source": [
    "常见分类模型： 高斯朴素贝叶斯、支持向量机、随机森林分类"
   ]
  },
  {
   "cell_type": "markdown",
   "id": "e7274c8c",
   "metadata": {},
   "source": [
    "- 分类： 预测离散标签\n",
    "- 回归： 预测连续标签\n",
    "- 聚类： 为无标签数据添加标签\n",
    "- 降维： 推断无标签数据的结构 （isomap、局部线性嵌入算法）"
   ]
  },
  {
   "cell_type": "markdown",
   "id": "cdb9eb79",
   "metadata": {},
   "source": [
    "## 数据表\n",
    "- 行 称为 样本\n",
    "- 列 称为 特征\n",
    "- 行列一起 称为 特征矩阵\n",
    "- 目标数组 一般是一维，长度一般与 样本总数相同"
   ]
  },
  {
   "cell_type": "code",
   "execution_count": 1,
   "id": "665de5be",
   "metadata": {},
   "outputs": [],
   "source": [
    "import pandas as pd\n",
    "iris = pd.read_csv('seaborn-data/iris.csv')"
   ]
  },
  {
   "cell_type": "code",
   "execution_count": 2,
   "id": "d27fd093",
   "metadata": {},
   "outputs": [
    {
     "name": "stdout",
     "output_type": "stream",
     "text": [
      "   sepal_length  sepal_width  petal_length  petal_width species\n",
      "0           5.1          3.5           1.4          0.2  setosa\n",
      "1           4.9          3.0           1.4          0.2  setosa\n",
      "2           4.7          3.2           1.3          0.2  setosa\n",
      "3           4.6          3.1           1.5          0.2  setosa\n",
      "4           5.0          3.6           1.4          0.2  setosa\n"
     ]
    }
   ],
   "source": [
    "iris.shape\n",
    "print(iris.head())"
   ]
  },
  {
   "cell_type": "code",
   "execution_count": 3,
   "id": "b7877e06",
   "metadata": {},
   "outputs": [
    {
     "data": {
      "text/plain": [
       "(150, 4)"
      ]
     },
     "execution_count": 3,
     "metadata": {},
     "output_type": "execute_result"
    }
   ],
   "source": [
    "x_iris = iris.drop('species', axis=1)\n",
    "x_iris.shape"
   ]
  },
  {
   "cell_type": "code",
   "execution_count": 4,
   "id": "60849f82",
   "metadata": {},
   "outputs": [
    {
     "name": "stdout",
     "output_type": "stream",
     "text": [
      "(150,)\n"
     ]
    }
   ],
   "source": [
    "y_iris = iris['species']\n",
    "print(y_iris.shape)"
   ]
  },
  {
   "cell_type": "markdown",
   "id": "d52ebdce",
   "metadata": {},
   "source": [
    "## 评估器API"
   ]
  },
  {
   "cell_type": "markdown",
   "id": "d5b1180b",
   "metadata": {},
   "source": [
    "**常用步骤**\n",
    "- 导入适当的评估器类，选择模型类\n",
    "- 用合适的数值对模型类进行实例化，配置模型的**超参数**\n",
    "- 整理数据，获取特征矩阵和目标数组\n",
    "- 调用模型实例的fit()方法对数据进行拟合\n",
    "- 对新数据应用模型\n",
    "    - 有监督学习，通常使用predict\n",
    "    - 无监督学习，通常采用transform或者predict方法转换或推断数据的性质"
   ]
  },
  {
   "cell_type": "markdown",
   "id": "a8fdaaa6",
   "metadata": {},
   "source": [
    "## 有监督学习\n",
    "**简单的线性回归**"
   ]
  },
  {
   "cell_type": "code",
   "execution_count": 5,
   "id": "af87baec",
   "metadata": {},
   "outputs": [
    {
     "data": {
      "text/plain": [
       "<matplotlib.collections.PathCollection at 0x115af4160>"
      ]
     },
     "execution_count": 5,
     "metadata": {},
     "output_type": "execute_result"
    },
    {
     "data": {
      "image/png": "[encoded data removed]",
      "text/plain": [
       "<Figure size 432x288 with 1 Axes>"
      ]
     },
     "metadata": {
      "needs_background": "light"
     },
     "output_type": "display_data"
    }
   ],
   "source": [
    "import matplotlib.pyplot as plt\n",
    "import numpy as np\n",
    "\n",
    "rng = np.random.RandomState(42)\n",
    "x = 10 * rng.rand(50)\n",
    "y = 2 * x - 1 + rng.randn(50)\n",
    "plt.scatter(x, y)"
   ]
  },
  {
   "cell_type": "markdown",
   "id": "3911a056",
   "metadata": {},
   "source": [
    "**导入简单的线性回归模型**"
   ]
  },
  {
   "cell_type": "code",
   "execution_count": 6,
   "id": "af593ba3",
   "metadata": {},
   "outputs": [
    {
     "data": {
      "text/plain": [
       "LinearRegression()"
      ]
     },
     "execution_count": 6,
     "metadata": {},
     "output_type": "execute_result"
    }
   ],
   "source": [
    "from sklearn.linear_model import LinearRegression  # linear 线性的 regression 回归的\n",
    "model = LinearRegression(fit_intercept=True)  # 拟合直线的 截距 intercept \n",
    "model"
   ]
  },
  {
   "cell_type": "code",
   "execution_count": 7,
   "id": "51e0f019",
   "metadata": {},
   "outputs": [
    {
     "name": "stdout",
     "output_type": "stream",
     "text": [
      "(50,)\n",
      "(50, 1) (50,)\n"
     ]
    }
   ],
   "source": [
    "print(x.shape)\n",
    "X = x[:, np.newaxis]\n",
    "print(X.shape, y.shape)"
   ]
  },
  {
   "cell_type": "code",
   "execution_count": 8,
   "id": "2f710e4e",
   "metadata": {},
   "outputs": [
    {
     "data": {
      "text/plain": [
       "LinearRegression()"
      ]
     },
     "execution_count": 8,
     "metadata": {},
     "output_type": "execute_result"
    }
   ],
   "source": [
    "model.fit(X, y)"
   ]
  },
  {
   "cell_type": "code",
   "execution_count": 9,
   "id": "761c4996",
   "metadata": {},
   "outputs": [
    {
     "data": {
      "text/plain": [
       "array([1.9776566])"
      ]
     },
     "execution_count": 9,
     "metadata": {},
     "output_type": "execute_result"
    }
   ],
   "source": [
    "model.coef_"
   ]
  },
  {
   "cell_type": "code",
   "execution_count": 10,
   "id": "87d8bae7",
   "metadata": {},
   "outputs": [
    {
     "data": {
      "text/plain": [
       "-0.9033107255311146"
      ]
     },
     "execution_count": 10,
     "metadata": {},
     "output_type": "execute_result"
    }
   ],
   "source": [
    "model.intercept_"
   ]
  },
  {
   "cell_type": "markdown",
   "id": "3fb4891d",
   "metadata": {},
   "source": [
    "**对拟合的模型进行预测**"
   ]
  },
  {
   "cell_type": "code",
   "execution_count": 11,
   "id": "e8fcb64b",
   "metadata": {},
   "outputs": [
    {
     "data": {
      "text/plain": [
       "(50,)"
      ]
     },
     "execution_count": 11,
     "metadata": {},
     "output_type": "execute_result"
    }
   ],
   "source": [
    "xfit = np.linspace(-1, 11)  # 默认长度50分\n",
    "xfit.shape"
   ]
  },
  {
   "cell_type": "code",
   "execution_count": 12,
   "id": "19e2bf37",
   "metadata": {},
   "outputs": [
    {
     "data": {
      "text/plain": [
       "<matplotlib.collections.PathCollection at 0x123b27e20>"
      ]
     },
     "execution_count": 12,
     "metadata": {},
     "output_type": "execute_result"
    },
    {
     "data": {
      "image/png": "[encoded data removed]",
      "text/plain": [
       "<Figure size 432x288 with 1 Axes>"
      ]
     },
     "metadata": {
      "needs_background": "light"
     },
     "output_type": "display_data"
    }
   ],
   "source": [
    "Xfit = xfit[:, np.newaxis]\n",
    "yfit = model.predict(Xfit)\n",
    "plt.plot(Xfit, yfit)\n",
    "plt.scatter(X, y)"
   ]
  },
  {
   "cell_type": "markdown",
   "id": "2e001b6e",
   "metadata": {},
   "source": [
    "### 有监督学习：分类问题"
   ]
  },
  {
   "cell_type": "markdown",
   "id": "2fa448c7",
   "metadata": {},
   "source": [
    "**示例iris分类**\n",
    "- 高斯朴素贝叶斯"
   ]
  },
  {
   "cell_type": "markdown",
   "id": "27e612b0",
   "metadata": {},
   "source": [
    "**数据分类，训练集 和 测试集**"
   ]
  },
  {
   "cell_type": "code",
   "execution_count": 13,
   "id": "632d5587",
   "metadata": {},
   "outputs": [],
   "source": [
    "from sklearn.model_selection import train_test_split\n",
    "Xtrain, Xtest, ytrain, ytest = train_test_split(x_iris, y_iris, random_state=1)"
   ]
  },
  {
   "cell_type": "code",
   "execution_count": 14,
   "id": "281137e9",
   "metadata": {},
   "outputs": [],
   "source": [
    "# 导入朴素贝叶斯公式\n",
    "from sklearn.naive_bayes import GaussianNB   \n",
    "model = GaussianNB()  # 初始化模型\n",
    "model.fit(Xtrain, ytrain) # 用模型 拟合数据\n",
    "y_model = model.predict(Xtest) # 对测试集 进行预测"
   ]
  },
  {
   "cell_type": "code",
   "execution_count": 15,
   "id": "283ae4ab",
   "metadata": {},
   "outputs": [
    {
     "data": {
      "text/plain": [
       "0.9736842105263158"
      ]
     },
     "execution_count": 15,
     "metadata": {},
     "output_type": "execute_result"
    }
   ],
   "source": [
    "from sklearn.metrics import accuracy_score # metrics 量度， accuracy 准确度，\n",
    "accuracy_score(ytest, y_model) "
   ]
  },
  {
   "cell_type": "markdown",
   "id": "a1f4114e",
   "metadata": {},
   "source": [
    "## 无监督学习， 降维"
   ]
  },
  {
   "cell_type": "markdown",
   "id": "a4aff324",
   "metadata": {},
   "source": [
    "**iris降维**"
   ]
  },
  {
   "cell_type": "code",
   "execution_count": 16,
   "id": "16475df3",
   "metadata": {},
   "outputs": [],
   "source": [
    "from sklearn.decomposition import PCA  # 主成分 分析 PCA\n",
    "model = PCA(n_components=2) # 设置超参数\n",
    "model.fit(x_iris)           # 拟合数据\n",
    "X_2D = model.transform(x_iris) # 数据 降为 2 维度"
   ]
  },
  {
   "cell_type": "code",
   "execution_count": 17,
   "id": "4bd3b7c4",
   "metadata": {},
   "outputs": [
    {
     "data": {
      "text/html": [
       "<div>\n",
       "<style scoped>\n",
       "    .dataframe tbody tr th:only-of-type {\n",
       "        vertical-align: middle;\n",
       "    }\n",
       "\n",
       "    .dataframe tbody tr th {\n",
       "        vertical-align: top;\n",
       "    }\n",
       "\n",
       "    .dataframe thead th {\n",
       "        text-align: right;\n",
       "    }\n",
       "</style>\n",
       "<table border=\"1\" class=\"dataframe\">\n",
       "  <thead>\n",
       "    <tr style=\"text-align: right;\">\n",
       "      <th></th>\n",
       "      <th>sepal_length</th>\n",
       "      <th>sepal_width</th>\n",
       "      <th>petal_length</th>\n",
       "      <th>petal_width</th>\n",
       "      <th>species</th>\n",
       "      <th>PCA1</th>\n",
       "      <th>PCA2</th>\n",
       "    </tr>\n",
       "  </thead>\n",
       "  <tbody>\n",
       "    <tr>\n",
       "      <th>0</th>\n",
       "      <td>5.1</td>\n",
       "      <td>3.5</td>\n",
       "      <td>1.4</td>\n",
       "      <td>0.2</td>\n",
       "      <td>setosa</td>\n",
       "      <td>-2.684126</td>\n",
       "      <td>0.319397</td>\n",
       "    </tr>\n",
       "    <tr>\n",
       "      <th>1</th>\n",
       "      <td>4.9</td>\n",
       "      <td>3.0</td>\n",
       "      <td>1.4</td>\n",
       "      <td>0.2</td>\n",
       "      <td>setosa</td>\n",
       "      <td>-2.714142</td>\n",
       "      <td>-0.177001</td>\n",
       "    </tr>\n",
       "    <tr>\n",
       "      <th>2</th>\n",
       "      <td>4.7</td>\n",
       "      <td>3.2</td>\n",
       "      <td>1.3</td>\n",
       "      <td>0.2</td>\n",
       "      <td>setosa</td>\n",
       "      <td>-2.888991</td>\n",
       "      <td>-0.144949</td>\n",
       "    </tr>\n",
       "    <tr>\n",
       "      <th>3</th>\n",
       "      <td>4.6</td>\n",
       "      <td>3.1</td>\n",
       "      <td>1.5</td>\n",
       "      <td>0.2</td>\n",
       "      <td>setosa</td>\n",
       "      <td>-2.745343</td>\n",
       "      <td>-0.318299</td>\n",
       "    </tr>\n",
       "    <tr>\n",
       "      <th>4</th>\n",
       "      <td>5.0</td>\n",
       "      <td>3.6</td>\n",
       "      <td>1.4</td>\n",
       "      <td>0.2</td>\n",
       "      <td>setosa</td>\n",
       "      <td>-2.728717</td>\n",
       "      <td>0.326755</td>\n",
       "    </tr>\n",
       "  </tbody>\n",
       "</table>\n",
       "</div>"
      ],
      "text/plain": [
       "   sepal_length  sepal_width  petal_length  petal_width species      PCA1  \\\n",
       "0           5.1          3.5           1.4          0.2  setosa -2.684126   \n",
       "1           4.9          3.0           1.4          0.2  setosa -2.714142   \n",
       "2           4.7          3.2           1.3          0.2  setosa -2.888991   \n",
       "3           4.6          3.1           1.5          0.2  setosa -2.745343   \n",
       "4           5.0          3.6           1.4          0.2  setosa -2.728717   \n",
       "\n",
       "       PCA2  \n",
       "0  0.319397  \n",
       "1 -0.177001  \n",
       "2 -0.144949  \n",
       "3 -0.318299  \n",
       "4  0.326755  "
      ]
     },
     "execution_count": 17,
     "metadata": {},
     "output_type": "execute_result"
    }
   ],
   "source": [
    "iris['PCA1'] = X_2D[:, 0]\n",
    "iris['PCA2'] = X_2D[:, 1]\n",
    "iris.head()"
   ]
  },
  {
   "cell_type": "code",
   "execution_count": 18,
   "id": "e25dee4a",
   "metadata": {},
   "outputs": [
    {
     "data": {
      "text/plain": [
       "<seaborn.axisgrid.FacetGrid at 0x125c3b5b0>"
      ]
     },
     "execution_count": 18,
     "metadata": {},
     "output_type": "execute_result"
    },
    {
     "data": {
      "image/png": "[encoded data removed]",
      "text/plain": [
       "<Figure size 444.75x360 with 1 Axes>"
      ]
     },
     "metadata": {
      "needs_background": "light"
     },
     "output_type": "display_data"
    }
   ],
   "source": [
    "import seaborn as sb\n",
    "sb.lmplot(x= 'PCA1', y='PCA2', hue='species', data = iris, fit_reg=False)"
   ]
  },
  {
   "cell_type": "markdown",
   "id": "c2d3b22a",
   "metadata": {},
   "source": [
    "## 无监督学习 聚类"
   ]
  },
  {
   "cell_type": "markdown",
   "id": "4ef777fb",
   "metadata": {},
   "source": [
    "**使用GMM 进行聚类**"
   ]
  },
  {
   "cell_type": "code",
   "execution_count": 19,
   "id": "16caddcd",
   "metadata": {},
   "outputs": [
    {
     "data": {
      "text/html": [
       "<div>\n",
       "<style scoped>\n",
       "    .dataframe tbody tr th:only-of-type {\n",
       "        vertical-align: middle;\n",
       "    }\n",
       "\n",
       "    .dataframe tbody tr th {\n",
       "        vertical-align: top;\n",
       "    }\n",
       "\n",
       "    .dataframe thead th {\n",
       "        text-align: right;\n",
       "    }\n",
       "</style>\n",
       "<table border=\"1\" class=\"dataframe\">\n",
       "  <thead>\n",
       "    <tr style=\"text-align: right;\">\n",
       "      <th></th>\n",
       "      <th>sepal_length</th>\n",
       "      <th>sepal_width</th>\n",
       "      <th>petal_length</th>\n",
       "      <th>petal_width</th>\n",
       "    </tr>\n",
       "  </thead>\n",
       "  <tbody>\n",
       "    <tr>\n",
       "      <th>0</th>\n",
       "      <td>5.1</td>\n",
       "      <td>3.5</td>\n",
       "      <td>1.4</td>\n",
       "      <td>0.2</td>\n",
       "    </tr>\n",
       "    <tr>\n",
       "      <th>1</th>\n",
       "      <td>4.9</td>\n",
       "      <td>3.0</td>\n",
       "      <td>1.4</td>\n",
       "      <td>0.2</td>\n",
       "    </tr>\n",
       "    <tr>\n",
       "      <th>2</th>\n",
       "      <td>4.7</td>\n",
       "      <td>3.2</td>\n",
       "      <td>1.3</td>\n",
       "      <td>0.2</td>\n",
       "    </tr>\n",
       "    <tr>\n",
       "      <th>3</th>\n",
       "      <td>4.6</td>\n",
       "      <td>3.1</td>\n",
       "      <td>1.5</td>\n",
       "      <td>0.2</td>\n",
       "    </tr>\n",
       "    <tr>\n",
       "      <th>4</th>\n",
       "      <td>5.0</td>\n",
       "      <td>3.6</td>\n",
       "      <td>1.4</td>\n",
       "      <td>0.2</td>\n",
       "    </tr>\n",
       "  </tbody>\n",
       "</table>\n",
       "</div>"
      ],
      "text/plain": [
       "   sepal_length  sepal_width  petal_length  petal_width\n",
       "0           5.1          3.5           1.4          0.2\n",
       "1           4.9          3.0           1.4          0.2\n",
       "2           4.7          3.2           1.3          0.2\n",
       "3           4.6          3.1           1.5          0.2\n",
       "4           5.0          3.6           1.4          0.2"
      ]
     },
     "execution_count": 19,
     "metadata": {},
     "output_type": "execute_result"
    }
   ],
   "source": [
    "from sklearn.mixture import GaussianMixture # 高斯 混合 模型\n",
    "model = GaussianMixture(n_components=3, covariance_type='full') # covariance 协方差 类型\n",
    "model.fit(x_iris) # 拟合数据 只需要 x 数据， 不需要y的数据\n",
    "y_gmm = model.predict(x_iris) # \n",
    "x_iris.head()"
   ]
  },
  {
   "cell_type": "code",
   "execution_count": 20,
   "id": "bdaa09a0",
   "metadata": {},
   "outputs": [
    {
     "data": {
      "text/plain": [
       "<seaborn.axisgrid.FacetGrid at 0x126391190>"
      ]
     },
     "execution_count": 20,
     "metadata": {},
     "output_type": "execute_result"
    },
    {
     "data": {
      "image/png": "[encoded data removed]",
      "text/plain": [
       "<Figure size 1164.75x360 with 3 Axes>"
      ]
     },
     "metadata": {
      "needs_background": "light"
     },
     "output_type": "display_data"
    }
   ],
   "source": [
    "iris['cluster'] = y_gmm\n",
    "sb.lmplot(x='PCA1', y='PCA2', data=iris, hue='species', col='cluster', fit_reg=False)"
   ]
  },
  {
   "cell_type": "markdown",
   "id": "3642f417",
   "metadata": {},
   "source": [
    "## 应用： 手写数字探索"
   ]
  },
  {
   "cell_type": "code",
   "execution_count": 21,
   "id": "376be42f",
   "metadata": {},
   "outputs": [
    {
     "data": {
      "text/plain": [
       "(1797, 8, 8)"
      ]
     },
     "execution_count": 21,
     "metadata": {},
     "output_type": "execute_result"
    }
   ],
   "source": [
    "from sklearn.datasets import load_digits\n",
    "digits = load_digits()\n",
    "digits.images.shape  # 1797 个样本， 8 x 8 个像素"
   ]
  },
  {
   "cell_type": "code",
   "execution_count": 22,
   "id": "afdacbde",
   "metadata": {},
   "outputs": [
    {
     "data": {
      "image/png": "[encoded data removed]",
      "text/plain": [
       "<Figure size 576x576 with 100 Axes>"
      ]
     },
     "metadata": {},
     "output_type": "display_data"
    }
   ],
   "source": [
    "import matplotlib.pyplot as plt\n",
    "fig, axes = plt.subplots(10, 10, figsize=(8,8), \n",
    "                         subplot_kw= {'xticks':[], 'yticks': []},  # 设置子图的 的属性\n",
    "                         gridspec_kw=dict(hspace=0.2, wspace=0.2)) # 设置子图的 网格位置的 属性\n",
    "for i, ax in enumerate(axes.flat):\n",
    "    ax.imshow(digits.images[i], cmap='binary', interpolation='nearest') # interpolation 插值， nearest 最近的\n",
    "    ax.text(0.05, 0.05, str(digits.target[i]), transform=ax.transAxes, color='green') # transform 变换坐标系的\n"
   ]
  },
  {
   "cell_type": "code",
   "execution_count": 23,
   "id": "674871df",
   "metadata": {},
   "outputs": [
    {
     "name": "stdout",
     "output_type": "stream",
     "text": [
      "(1797, 64) (1797,)\n"
     ]
    }
   ],
   "source": [
    "X = digits.data\n",
    "y = digits.target\n",
    "print(X.shape, y.shape)"
   ]
  },
  {
   "cell_type": "markdown",
   "id": "fbb0edd3",
   "metadata": {},
   "source": [
    "**降维处理**"
   ]
  },
  {
   "cell_type": "code",
   "execution_count": 24,
   "id": "82d5e610",
   "metadata": {},
   "outputs": [
    {
     "name": "stderr",
     "output_type": "stream",
     "text": [
      "/Users/maserhe/Library/Python/3.8/lib/python/site-packages/sklearn/manifold/_isomap.py:304: UserWarning: The number of connected components of the neighbors graph is 2 > 1. Completing the graph to fit Isomap might be slow. Increase the number of neighbors to avoid this issue.\n",
      "  self._fit_transform(X)\n",
      "/Users/maserhe/Library/Python/3.8/lib/python/site-packages/scipy/sparse/_index.py:103: SparseEfficiencyWarning: Changing the sparsity structure of a csr_matrix is expensive. lil_matrix is more efficient.\n",
      "  self._set_intXint(row, col, x.flat[0])\n"
     ]
    },
    {
     "data": {
      "text/plain": [
       "(1797, 2)"
      ]
     },
     "execution_count": 24,
     "metadata": {},
     "output_type": "execute_result"
    }
   ],
   "source": [
    "from sklearn.manifold import Isomap  \n",
    "iso = Isomap(n_components=2)\n",
    "iso.fit(digits.data)   # 对64 维 数据进行降维\n",
    "data_projected = iso.transform(digits.data) # 对 数据进行预测\n",
    "data_projected.shape"
   ]
  },
  {
   "cell_type": "code",
   "execution_count": 25,
   "id": "a3cbcf9e",
   "metadata": {},
   "outputs": [
    {
     "data": {
      "image/png": "[encoded data removed]",
      "text/plain": [
       "<Figure size 432x288 with 2 Axes>"
      ]
     },
     "metadata": {
      "needs_background": "light"
     },
     "output_type": "display_data"
    }
   ],
   "source": [
    "plt.scatter(data_projected[:, 0], data_projected[:, 1], \n",
    "            c=digits.target, \n",
    "            edgecolors='none', \n",
    "            alpha=0.5, cmap=plt.cm.get_cmap('nipy_spectral', 10))\n",
    "plt.colorbar(label='digit label', ticks=range(10))\n",
    "plt.clim(-0.5, 9.5)"
   ]
  },
  {
   "cell_type": "markdown",
   "id": "1bdae073",
   "metadata": {},
   "source": [
    "**数字进行分类**"
   ]
  },
  {
   "cell_type": "code",
   "execution_count": 26,
   "id": "384b4721",
   "metadata": {},
   "outputs": [],
   "source": [
    "Xtrain, Xtest, ytrain, ytest = train_test_split(X, y, random_state=0) # 参数， 特征矩阵， 目标矩阵\n",
    "from sklearn.naive_bayes import GaussianNB # 高斯 朴素贝叶斯算法\n",
    "model = GaussianNB()\n",
    "model.fit(Xtrain, ytrain)\n",
    "y_model = model.predict(Xtest) # 对测试集合 进行预测"
   ]
  },
  {
   "cell_type": "markdown",
   "id": "a9f06256",
   "metadata": {},
   "source": [
    "**对预测结果进行打分**"
   ]
  },
  {
   "cell_type": "code",
   "execution_count": 27,
   "id": "451c8d44",
   "metadata": {},
   "outputs": [
    {
     "data": {
      "text/plain": [
       "0.8333333333333334"
      ]
     },
     "execution_count": 27,
     "metadata": {},
     "output_type": "execute_result"
    }
   ],
   "source": [
    "accuracy_score(ytest, y_model)"
   ]
  },
  {
   "cell_type": "markdown",
   "id": "fcca5205",
   "metadata": {},
   "source": [
    "**使用混淆矩阵**"
   ]
  },
  {
   "cell_type": "code",
   "execution_count": 28,
   "id": "05327d22",
   "metadata": {},
   "outputs": [
    {
     "data": {
      "text/plain": [
       "Text(91.68, 0.5, 'true value')"
      ]
     },
     "execution_count": 28,
     "metadata": {},
     "output_type": "execute_result"
    },
    {
     "data": {
      "image/png": "[encoded data removed]",
      "text/plain": [
       "<Figure size 432x288 with 1 Axes>"
      ]
     },
     "metadata": {
      "needs_background": "light"
     },
     "output_type": "display_data"
    }
   ],
   "source": [
    "from sklearn.metrics import confusion_matrix\n",
    "mat = confusion_matrix(ytest, y_model) # 测试集 对比 模型\n",
    "sb.heatmap(mat, square=True, annot=True, cbar=False)\n",
    "plt.xlabel('predict value')\n",
    "plt.ylabel('true value')"
   ]
  },
  {
   "cell_type": "markdown",
   "id": "4d2d21d7",
   "metadata": {},
   "source": [
    "## 模型验证"
   ]
  },
  {
   "cell_type": "markdown",
   "id": "fc41ef23",
   "metadata": {},
   "source": [
    "- 留出集\n",
    "- 交叉验证"
   ]
  },
  {
   "cell_type": "markdown",
   "id": "bf00b4ed",
   "metadata": {},
   "source": [
    "## 最优模型选择\n",
    "-  偏差 和 方差 的均衡  \n",
    "- **高偏差 (欠拟合， 灵活性低)**\n",
    "- **高方差（过拟合， 学习了数据的噪音)**"
   ]
  },
  {
   "cell_type": "markdown",
   "id": "0cae372a",
   "metadata": {},
   "source": [
    "**验证曲线**"
   ]
  },
  {
   "cell_type": "markdown",
   "id": "df08990e",
   "metadata": {},
   "source": [
    "## 特征工程"
   ]
  },
  {
   "cell_type": "markdown",
   "id": "d70dd581",
   "metadata": {},
   "source": [
    "**分类特征**\n",
    "- 独热编码\n",
    "- 问题： 矩阵稀疏\n",
    "- 解决： 使用稀疏矩阵表示"
   ]
  },
  {
   "cell_type": "markdown",
   "id": "a37bf61a",
   "metadata": {},
   "source": [
    "**文本特征**\n",
    "- 单词统计\n",
    "- 问题：热频词，聚集高，权重大\n",
    "- 解决：TF-IDF 词频率逆文档频率"
   ]
  },
  {
   "cell_type": "markdown",
   "id": "31844834",
   "metadata": {},
   "source": [
    "**图像特征**"
   ]
  },
  {
   "cell_type": "markdown",
   "id": "c2127b7f",
   "metadata": {},
   "source": [
    "**衍生特征**\n",
    "- 构造 多项式特征\n",
    "- 基于函数回归"
   ]
  },
  {
   "cell_type": "markdown",
   "id": "768b6e4d",
   "metadata": {},
   "source": [
    "**缺失值填充**\n",
    "- 均值、中位数等"
   ]
  },
  {
   "cell_type": "markdown",
   "id": "a7c6efd9",
   "metadata": {},
   "source": [
    "**特征管道**\n",
    "- 使用多个步骤"
   ]
  },
  {
   "cell_type": "markdown",
   "id": "10ac0ef7",
   "metadata": {},
   "source": [
    "## 专题： 朴素贝叶斯分类"
   ]
  },
  {
   "cell_type": "markdown",
   "id": "1230dd1e",
   "metadata": {},
   "source": [
    "**朴素贝叶斯：每个标签的数据都服从简单的高斯分布**"
   ]
  },
  {
   "cell_type": "markdown",
   "id": "4a2e886b",
   "metadata": {},
   "source": [
    "**多项式朴素贝叶斯：特征是由一个简单多项式分布生成的**\n",
    "- 文本分类"
   ]
  },
  {
   "cell_type": "code",
   "execution_count": 31,
   "id": "bafe2ba5",
   "metadata": {},
   "outputs": [
    {
     "data": {
      "text/plain": [
       "['alt.atheism',\n",
       " 'comp.graphics',\n",
       " 'comp.os.ms-windows.misc',\n",
       " 'comp.sys.ibm.pc.hardware',\n",
       " 'comp.sys.mac.hardware',\n",
       " 'comp.windows.x',\n",
       " 'misc.forsale',\n",
       " 'rec.autos',\n",
       " 'rec.motorcycles',\n",
       " 'rec.sport.baseball',\n",
       " 'rec.sport.hockey',\n",
       " 'sci.crypt',\n",
       " 'sci.electronics',\n",
       " 'sci.med',\n",
       " 'sci.space',\n",
       " 'soc.religion.christian',\n",
       " 'talk.politics.guns',\n",
       " 'talk.politics.mideast',\n",
       " 'talk.politics.misc',\n",
       " 'talk.religion.misc']"
      ]
     },
     "execution_count": 31,
     "metadata": {},
     "output_type": "execute_result"
    }
   ],
   "source": [
    "from sklearn.datasets import fetch_20newsgroups\n",
    "data = fetch_20newsgroups()\n",
    "data.target_names"
   ]
  },
  {
   "cell_type": "code",
   "execution_count": 37,
   "id": "70cbfef6",
   "metadata": {},
   "outputs": [],
   "source": [
    "# 选择四类 新闻\n",
    "index = ['talk.politics.guns', 'soc.religion.christian', 'sci.space', 'comp.graphics']\n",
    "train = fetch_20newsgroups(subset='train', categories=index)\n",
    "test = fetch_20newsgroups(subset='test', categories=index)"
   ]
  },
  {
   "cell_type": "code",
   "execution_count": 38,
   "id": "b2afd6fd",
   "metadata": {},
   "outputs": [],
   "source": [
    "## 因为是文本，采用TF-IDF向量法\n",
    "from sklearn.feature_extraction.text import TfidfVectorizer  # TF-IDF\n",
    "from sklearn.naive_bayes import MultinomialNB  # 多项式 朴素贝叶斯\n",
    "from sklearn.pipeline import make_pipeline  # 特征管道"
   ]
  },
  {
   "cell_type": "code",
   "execution_count": 49,
   "id": "632b7feb",
   "metadata": {},
   "outputs": [],
   "source": [
    "model = make_pipeline(TfidfVectorizer(), MultinomialNB())\n",
    "model.fit(np.array(train.data), train.target)\n",
    "labels = model.predict(test.data)"
   ]
  },
  {
   "cell_type": "code",
   "execution_count": 51,
   "id": "9a371da2",
   "metadata": {},
   "outputs": [
    {
     "data": {
      "text/plain": [
       "0.9320388349514563"
      ]
     },
     "execution_count": 51,
     "metadata": {},
     "output_type": "execute_result"
    }
   ],
   "source": [
    "## 模型结果预测\n",
    "from sklearn.metrics import accuracy_score\n",
    "accuracy_score(test.target, labels)  # 预测的准确度"
   ]
  },
  {
   "cell_type": "code",
   "execution_count": 55,
   "id": "fb68f427",
   "metadata": {},
   "outputs": [
    {
     "data": {
      "text/plain": [
       "<AxesSubplot:>"
      ]
     },
     "execution_count": 55,
     "metadata": {},
     "output_type": "execute_result"
    },
    {
     "data": {
      "image/png": "[encoded data removed]",
      "text/plain": [
       "<Figure size 432x288 with 1 Axes>"
      ]
     },
     "metadata": {
      "needs_background": "light"
     },
     "output_type": "display_data"
    }
   ],
   "source": [
    "## 混淆矩阵进行预测\n",
    "from sklearn.metrics import confusion_matrix\n",
    "mat = confusion_matrix(test.target, labels)\n",
    "sb.heatmap(mat.T,   # 进行转置\n",
    "           square=False,  # 设置方阵\n",
    "           annot=True,  # 显示数据  annot 注解\n",
    "           fmt='d',\n",
    "           cbar=False, \n",
    "           xticklabels=train.target_names, \n",
    "           yticklabels=train.target_names)\n"
   ]
  },
  {
   "cell_type": "markdown",
   "id": "b1a67c5e",
   "metadata": {},
   "source": [
    "**朴素贝叶斯的应用场景**\n",
    "- 优点：\n",
    " - 训练和预测的速度快\n",
    " - 直接使用概率预测\n",
    " - 通常容易解释\n",
    " - 可调节的参数少\n",
    "- 场景：\n",
    " - 假设分布函数与数据匹配 （实际中很少见）\n",
    " - 各种类型的区分度很高，模型复杂度不高 \n",
    " - 非常高维度的数据，模型复杂度不重要"
   ]
  },
  {
   "cell_type": "markdown",
   "id": "d6ce520c",
   "metadata": {},
   "source": [
    "## 专题：线性回归"
   ]
  },
  {
   "cell_type": "markdown",
   "id": "6098bbc6",
   "metadata": {},
   "source": [
    "**简单的线性回归**"
   ]
  },
  {
   "cell_type": "code",
   "execution_count": 58,
   "id": "1dba7d6b",
   "metadata": {},
   "outputs": [
    {
     "data": {
      "text/plain": [
       "<matplotlib.collections.PathCollection at 0x12b58ecd0>"
      ]
     },
     "execution_count": 58,
     "metadata": {},
     "output_type": "execute_result"
    },
    {
     "data": {
      "image/png": "[encoded data removed]",
      "text/plain": [
       "<Figure size 432x288 with 1 Axes>"
      ]
     },
     "metadata": {
      "needs_background": "light"
     },
     "output_type": "display_data"
    }
   ],
   "source": [
    "rng = np.random.RandomState(42)\n",
    "x = 10 * rng.rand(50)\n",
    "y = 2 * x - 5 +  rng.randn(50)\n",
    "\n",
    "# 绘制 散点图\n",
    "plt.scatter(x, y)"
   ]
  },
  {
   "cell_type": "code",
   "execution_count": 62,
   "id": "ba8ca3f5",
   "metadata": {},
   "outputs": [],
   "source": [
    "# 对上面模型进行简单 拟合\n",
    "from sklearn.linear_model import LinearRegression\n",
    "model = LinearRegression(fit_intercept=True) # 拟合 截距\n",
    "model.fit(x[:, np.newaxis], y)\n",
    "\n",
    "xfit = np.linspace(0, 10, 1000)\n",
    "ypredict = model.predict(xfit[:, np.newaxis])"
   ]
  },
  {
   "cell_type": "code",
   "execution_count": 65,
   "id": "8080199e",
   "metadata": {},
   "outputs": [
    {
     "name": "stdout",
     "output_type": "stream",
     "text": [
      "(1000,) (1000,) (1000, 1)\n"
     ]
    },
    {
     "data": {
      "image/png": "[encoded data removed]",
      "text/plain": [
       "<Figure size 432x288 with 1 Axes>"
      ]
     },
     "metadata": {
      "needs_background": "light"
     },
     "output_type": "display_data"
    }
   ],
   "source": [
    "plt.scatter(x, y)\n",
    "plt.plot(xfit, ypredict)\n",
    "print(xfit.shape, ypredict.shape, xfit[:, np.newaxis].shape)"
   ]
  },
  {
   "cell_type": "code",
   "execution_count": 66,
   "id": "33fa836d",
   "metadata": {},
   "outputs": [
    {
     "name": "stdout",
     "output_type": "stream",
     "text": [
      "model slope:   1.9776566003853107\n",
      "mdoel intercept:  -4.903310725531115\n"
     ]
    }
   ],
   "source": [
    "# 查看结果\n",
    "print('model slope:  ', model.coef_[0])\n",
    "print('mdoel intercept: ', model.intercept_)"
   ]
  },
  {
   "cell_type": "markdown",
   "id": "62af4a8c",
   "metadata": {},
   "source": [
    "**基于函数回归**"
   ]
  },
  {
   "cell_type": "code",
   "execution_count": 71,
   "id": "2fbdf5b5",
   "metadata": {},
   "outputs": [
    {
     "data": {
      "text/plain": [
       "array([[ 2.,  4.,  8.],\n",
       "       [ 3.,  9., 27.],\n",
       "       [ 4., 16., 64.]])"
      ]
     },
     "execution_count": 71,
     "metadata": {},
     "output_type": "execute_result"
    }
   ],
   "source": [
    "from sklearn.preprocessing import PolynomialFeatures\n",
    "x = np.array([2, 3, 4])\n",
    "poly = PolynomialFeatures(3, include_bias=False) # bias 偏差 \n",
    "poly.fit_transform(x[:, np.newaxis])"
   ]
  },
  {
   "cell_type": "code",
   "execution_count": 74,
   "id": "64d8d3a4",
   "metadata": {},
   "outputs": [
    {
     "data": {
      "text/plain": [
       "<matplotlib.collections.PathCollection at 0x12872ae50>"
      ]
     },
     "execution_count": 74,
     "metadata": {},
     "output_type": "execute_result"
    },
    {
     "data": {
      "image/png": "[encoded data removed]",
      "text/plain": [
       "<Figure size 432x288 with 1 Axes>"
      ]
     },
     "metadata": {
      "needs_background": "light"
     },
     "output_type": "display_data"
    }
   ],
   "source": [
    "## 管道 加 七次多项式回归模型\n",
    "poly_model = make_pipeline(PolynomialFeatures(7), LinearRegression(fit_intercept=True))\n",
    "rng = np.random.RandomState(42)\n",
    "x = 10 * rng.rand(50)\n",
    "y = np.sin(x) + 0.1 * rng.randn(50) + 5\n",
    "\n",
    "plt.scatter(x[:, None], y)"
   ]
  },
  {
   "cell_type": "code",
   "execution_count": 79,
   "id": "c9879220",
   "metadata": {},
   "outputs": [
    {
     "name": "stdout",
     "output_type": "stream",
     "text": [
      "<bound method Pipeline._iter of Pipeline(steps=[('polynomialfeatures', PolynomialFeatures(degree=7)),\n",
      "                ('linearregression', LinearRegression())])>\n"
     ]
    },
    {
     "data": {
      "image/png": "[encoded data removed]",
      "text/plain": [
       "<Figure size 432x288 with 1 Axes>"
      ]
     },
     "metadata": {
      "needs_background": "light"
     },
     "output_type": "display_data"
    }
   ],
   "source": [
    "# 进行模型训练和 预测\n",
    "poly_model.fit(x[:, np.newaxis], y)\n",
    "yfit = poly_model.predict(xfit[:, np.newaxis])\n",
    "plt.scatter(x[:, None], y)\n",
    "plt.plot(xfit, yfit)"
   ]
  },
  {
   "cell_type": "markdown",
   "id": "501025b5",
   "metadata": {},
   "source": [
    "**正则化**\n",
    "- 岭回归 （L2范数正则化），吉洪诺夫正则化\n",
    " - 对模型系数平方和进行惩罚\n",
    "- Lasso 正则化 (L1范数）\n",
    " - 对模型系数的绝对值进行惩罚"
   ]
  },
  {
   "cell_type": "code",
   "execution_count": null,
   "id": "2f6449e9",
   "metadata": {},
   "outputs": [],
   "source": []
  }
 ],
 "metadata": {
  "kernelspec": {
   "display_name": "Python 3 (ipykernel)",
   "language": "python",
   "name": "python3"
  },
  "language_info": {
   "codemirror_mode": {
    "name": "ipython",
    "version": 3
   },
   "file_extension": ".py",
   "mimetype": "text/x-python",
   "name": "python",
   "nbconvert_exporter": "python",
   "pygments_lexer": "ipython3",
   "version": "3.8.9"
  }
 },
 "nbformat": 4,
 "nbformat_minor": 5
}
